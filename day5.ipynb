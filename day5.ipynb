{
  "nbformat": 4,
  "nbformat_minor": 0,
  "metadata": {
    "colab": {
      "name": "day5.ipynb",
      "provenance": [],
      "collapsed_sections": [],
      "authorship_tag": "ABX9TyOjaxHThBaab4eAiReYdSgJ"
    },
    "kernelspec": {
      "name": "python3",
      "display_name": "Python 3"
    },
    "widgets": {
      "application/vnd.jupyter.widget-state+json": {
        "f68f86a545794716877f55995d7bdd65": {
          "model_module": "@jupyter-widgets/controls",
          "model_name": "HBoxModel",
          "state": {
            "_view_name": "HBoxView",
            "_dom_classes": [],
            "_model_name": "HBoxModel",
            "_view_module": "@jupyter-widgets/controls",
            "_model_module_version": "1.5.0",
            "_view_count": null,
            "_view_module_version": "1.5.0",
            "box_style": "",
            "layout": "IPY_MODEL_f36a1d72a74940e4985b6b00fa0817f8",
            "_model_module": "@jupyter-widgets/controls",
            "children": [
              "IPY_MODEL_fe0e8c12578f4d6ebed993f969a83fb0",
              "IPY_MODEL_e7febc0e480d491c9dfddeae85985ad3"
            ]
          }
        },
        "f36a1d72a74940e4985b6b00fa0817f8": {
          "model_module": "@jupyter-widgets/base",
          "model_name": "LayoutModel",
          "state": {
            "_view_name": "LayoutView",
            "grid_template_rows": null,
            "right": null,
            "justify_content": null,
            "_view_module": "@jupyter-widgets/base",
            "overflow": null,
            "_model_module_version": "1.2.0",
            "_view_count": null,
            "flex_flow": null,
            "width": null,
            "min_width": null,
            "border": null,
            "align_items": null,
            "bottom": null,
            "_model_module": "@jupyter-widgets/base",
            "top": null,
            "grid_column": null,
            "overflow_y": null,
            "overflow_x": null,
            "grid_auto_flow": null,
            "grid_area": null,
            "grid_template_columns": null,
            "flex": null,
            "_model_name": "LayoutModel",
            "justify_items": null,
            "grid_row": null,
            "max_height": null,
            "align_content": null,
            "visibility": null,
            "align_self": null,
            "height": null,
            "min_height": null,
            "padding": null,
            "grid_auto_rows": null,
            "grid_gap": null,
            "max_width": null,
            "order": null,
            "_view_module_version": "1.2.0",
            "grid_template_areas": null,
            "object_position": null,
            "object_fit": null,
            "grid_auto_columns": null,
            "margin": null,
            "display": null,
            "left": null
          }
        },
        "fe0e8c12578f4d6ebed993f969a83fb0": {
          "model_module": "@jupyter-widgets/controls",
          "model_name": "IntProgressModel",
          "state": {
            "_view_name": "ProgressView",
            "style": "IPY_MODEL_817adb4ca57f4a8aae7443611424153a",
            "_dom_classes": [],
            "description": "",
            "_model_name": "IntProgressModel",
            "bar_style": "success",
            "max": 476,
            "_view_module": "@jupyter-widgets/controls",
            "_model_module_version": "1.5.0",
            "value": 476,
            "_view_count": null,
            "_view_module_version": "1.5.0",
            "orientation": "horizontal",
            "min": 0,
            "description_tooltip": null,
            "_model_module": "@jupyter-widgets/controls",
            "layout": "IPY_MODEL_b3abd2bd3efa45b18f4be2b1a1cb75be"
          }
        },
        "e7febc0e480d491c9dfddeae85985ad3": {
          "model_module": "@jupyter-widgets/controls",
          "model_name": "HTMLModel",
          "state": {
            "_view_name": "HTMLView",
            "style": "IPY_MODEL_fca0a8e2e57342db9c1119dfae4f52e6",
            "_dom_classes": [],
            "description": "",
            "_model_name": "HTMLModel",
            "placeholder": "​",
            "_view_module": "@jupyter-widgets/controls",
            "_model_module_version": "1.5.0",
            "value": "100% 476/476 [00:03&lt;00:00, 151.35it/s]",
            "_view_count": null,
            "_view_module_version": "1.5.0",
            "description_tooltip": null,
            "_model_module": "@jupyter-widgets/controls",
            "layout": "IPY_MODEL_2cea63a4c0cc437fab1debd996e8a3ec"
          }
        },
        "817adb4ca57f4a8aae7443611424153a": {
          "model_module": "@jupyter-widgets/controls",
          "model_name": "ProgressStyleModel",
          "state": {
            "_view_name": "StyleView",
            "_model_name": "ProgressStyleModel",
            "description_width": "",
            "_view_module": "@jupyter-widgets/base",
            "_model_module_version": "1.5.0",
            "_view_count": null,
            "_view_module_version": "1.2.0",
            "bar_color": null,
            "_model_module": "@jupyter-widgets/controls"
          }
        },
        "b3abd2bd3efa45b18f4be2b1a1cb75be": {
          "model_module": "@jupyter-widgets/base",
          "model_name": "LayoutModel",
          "state": {
            "_view_name": "LayoutView",
            "grid_template_rows": null,
            "right": null,
            "justify_content": null,
            "_view_module": "@jupyter-widgets/base",
            "overflow": null,
            "_model_module_version": "1.2.0",
            "_view_count": null,
            "flex_flow": null,
            "width": null,
            "min_width": null,
            "border": null,
            "align_items": null,
            "bottom": null,
            "_model_module": "@jupyter-widgets/base",
            "top": null,
            "grid_column": null,
            "overflow_y": null,
            "overflow_x": null,
            "grid_auto_flow": null,
            "grid_area": null,
            "grid_template_columns": null,
            "flex": null,
            "_model_name": "LayoutModel",
            "justify_items": null,
            "grid_row": null,
            "max_height": null,
            "align_content": null,
            "visibility": null,
            "align_self": null,
            "height": null,
            "min_height": null,
            "padding": null,
            "grid_auto_rows": null,
            "grid_gap": null,
            "max_width": null,
            "order": null,
            "_view_module_version": "1.2.0",
            "grid_template_areas": null,
            "object_position": null,
            "object_fit": null,
            "grid_auto_columns": null,
            "margin": null,
            "display": null,
            "left": null
          }
        },
        "fca0a8e2e57342db9c1119dfae4f52e6": {
          "model_module": "@jupyter-widgets/controls",
          "model_name": "DescriptionStyleModel",
          "state": {
            "_view_name": "StyleView",
            "_model_name": "DescriptionStyleModel",
            "description_width": "",
            "_view_module": "@jupyter-widgets/base",
            "_model_module_version": "1.5.0",
            "_view_count": null,
            "_view_module_version": "1.2.0",
            "_model_module": "@jupyter-widgets/controls"
          }
        },
        "2cea63a4c0cc437fab1debd996e8a3ec": {
          "model_module": "@jupyter-widgets/base",
          "model_name": "LayoutModel",
          "state": {
            "_view_name": "LayoutView",
            "grid_template_rows": null,
            "right": null,
            "justify_content": null,
            "_view_module": "@jupyter-widgets/base",
            "overflow": null,
            "_model_module_version": "1.2.0",
            "_view_count": null,
            "flex_flow": null,
            "width": null,
            "min_width": null,
            "border": null,
            "align_items": null,
            "bottom": null,
            "_model_module": "@jupyter-widgets/base",
            "top": null,
            "grid_column": null,
            "overflow_y": null,
            "overflow_x": null,
            "grid_auto_flow": null,
            "grid_area": null,
            "grid_template_columns": null,
            "flex": null,
            "_model_name": "LayoutModel",
            "justify_items": null,
            "grid_row": null,
            "max_height": null,
            "align_content": null,
            "visibility": null,
            "align_self": null,
            "height": null,
            "min_height": null,
            "padding": null,
            "grid_auto_rows": null,
            "grid_gap": null,
            "max_width": null,
            "order": null,
            "_view_module_version": "1.2.0",
            "grid_template_areas": null,
            "object_position": null,
            "object_fit": null,
            "grid_auto_columns": null,
            "margin": null,
            "display": null,
            "left": null
          }
        }
      }
    }
  },
  "cells": [
    {
      "cell_type": "code",
      "metadata": {
        "id": "UEoJQs7rLTtL",
        "colab_type": "code",
        "colab": {
          "base_uri": "https://localhost:8080/",
          "height": 314
        },
        "outputId": "0183d540-1680-46a5-841e-389bb9672aca"
      },
      "source": [
        "!pip install eli5"
      ],
      "execution_count": 1,
      "outputs": [
        {
          "output_type": "stream",
          "text": [
            "Collecting eli5\n",
            "\u001b[?25l  Downloading https://files.pythonhosted.org/packages/97/2f/c85c7d8f8548e460829971785347e14e45fa5c6617da374711dec8cb38cc/eli5-0.10.1-py2.py3-none-any.whl (105kB)\n",
            "\r\u001b[K     |███                             | 10kB 14.0MB/s eta 0:00:01\r\u001b[K     |██████▏                         | 20kB 1.8MB/s eta 0:00:01\r\u001b[K     |█████████▎                      | 30kB 2.7MB/s eta 0:00:01\r\u001b[K     |████████████▍                   | 40kB 1.8MB/s eta 0:00:01\r\u001b[K     |███████████████▌                | 51kB 2.2MB/s eta 0:00:01\r\u001b[K     |██████████████████▋             | 61kB 2.6MB/s eta 0:00:01\r\u001b[K     |█████████████████████▊          | 71kB 3.0MB/s eta 0:00:01\r\u001b[K     |████████████████████████▊       | 81kB 3.4MB/s eta 0:00:01\r\u001b[K     |███████████████████████████▉    | 92kB 3.8MB/s eta 0:00:01\r\u001b[K     |███████████████████████████████ | 102kB 3.0MB/s eta 0:00:01\r\u001b[K     |████████████████████████████████| 112kB 3.0MB/s \n",
            "\u001b[?25hRequirement already satisfied: jinja2 in /usr/local/lib/python3.6/dist-packages (from eli5) (2.11.1)\n",
            "Requirement already satisfied: graphviz in /usr/local/lib/python3.6/dist-packages (from eli5) (0.10.1)\n",
            "Requirement already satisfied: six in /usr/local/lib/python3.6/dist-packages (from eli5) (1.12.0)\n",
            "Requirement already satisfied: scipy in /usr/local/lib/python3.6/dist-packages (from eli5) (1.4.1)\n",
            "Requirement already satisfied: scikit-learn>=0.18 in /usr/local/lib/python3.6/dist-packages (from eli5) (0.22.1)\n",
            "Requirement already satisfied: attrs>16.0.0 in /usr/local/lib/python3.6/dist-packages (from eli5) (19.3.0)\n",
            "Requirement already satisfied: tabulate>=0.7.7 in /usr/local/lib/python3.6/dist-packages (from eli5) (0.8.6)\n",
            "Requirement already satisfied: numpy>=1.9.0 in /usr/local/lib/python3.6/dist-packages (from eli5) (1.17.5)\n",
            "Requirement already satisfied: MarkupSafe>=0.23 in /usr/local/lib/python3.6/dist-packages (from jinja2->eli5) (1.1.1)\n",
            "Requirement already satisfied: joblib>=0.11 in /usr/local/lib/python3.6/dist-packages (from scikit-learn>=0.18->eli5) (0.14.1)\n",
            "Installing collected packages: eli5\n",
            "Successfully installed eli5-0.10.1\n"
          ],
          "name": "stdout"
        }
      ]
    },
    {
      "cell_type": "code",
      "metadata": {
        "id": "fT8I0olbLgAz",
        "colab_type": "code",
        "colab": {
          "base_uri": "https://localhost:8080/",
          "height": 129
        },
        "outputId": "20c2cc65-a22a-4389-9d67-ac1b404aa31a"
      },
      "source": [
        "from google.colab import drive\n",
        "drive.mount('/content/drive')"
      ],
      "execution_count": 2,
      "outputs": [
        {
          "output_type": "stream",
          "text": [
            "Go to this URL in a browser: https://accounts.google.com/o/oauth2/auth?client_id=947318989803-6bn6qk8qdgf4n4g3pfee6491hc0brc4i.apps.googleusercontent.com&redirect_uri=urn%3aietf%3awg%3aoauth%3a2.0%3aoob&response_type=code&scope=email%20https%3a%2f%2fwww.googleapis.com%2fauth%2fdocs.test%20https%3a%2f%2fwww.googleapis.com%2fauth%2fdrive%20https%3a%2f%2fwww.googleapis.com%2fauth%2fdrive.photos.readonly%20https%3a%2f%2fwww.googleapis.com%2fauth%2fpeopleapi.readonly\n",
            "\n",
            "Enter your authorization code:\n",
            "··········\n",
            "Mounted at /content/drive\n"
          ],
          "name": "stdout"
        }
      ]
    },
    {
      "cell_type": "code",
      "metadata": {
        "id": "wysPoLO4LZAG",
        "colab_type": "code",
        "colab": {}
      },
      "source": [
        "import pandas as pd\n",
        "import numpy as np\n",
        "from sklearn.tree import DecisionTreeRegressor\n",
        "from sklearn.ensemble import RandomForestRegressor\n",
        "\n",
        "from sklearn.metrics import mean_absolute_error\n",
        "from sklearn.model_selection import cross_val_score\n",
        "\n",
        "import eli5\n",
        "from eli5.sklearn import PermutationImportance\n",
        "\n",
        "from ast import literal_eval\n",
        "from tqdm import tqdm_notebook"
      ],
      "execution_count": 0,
      "outputs": []
    },
    {
      "cell_type": "code",
      "metadata": {
        "id": "nZ-STSl0MJE8",
        "colab_type": "code",
        "colab": {
          "base_uri": "https://localhost:8080/",
          "height": 35
        },
        "outputId": "585b4159-1f0f-4de4-a2e7-5d900f51edc9"
      },
      "source": [
        "cd '/content/drive/My Drive/Colab Notebooks/dw_matrix'"
      ],
      "execution_count": 7,
      "outputs": [
        {
          "output_type": "stream",
          "text": [
            "/content/drive/My Drive/Colab Notebooks/dw_matrix\n"
          ],
          "name": "stdout"
        }
      ]
    },
    {
      "cell_type": "code",
      "metadata": {
        "id": "Ik5WBmMOMNno",
        "colab_type": "code",
        "colab": {
          "base_uri": "https://localhost:8080/",
          "height": 35
        },
        "outputId": "3326cea3-4810-475e-a1f2-5af68759af8a"
      },
      "source": [
        "ls"
      ],
      "execution_count": 5,
      "outputs": [
        {
          "output_type": "stream",
          "text": [
            "ColabDriveGithub.ipynb  \u001b[0m\u001b[01;34mdw_matrix\u001b[0m/\n"
          ],
          "name": "stdout"
        }
      ]
    },
    {
      "cell_type": "code",
      "metadata": {
        "id": "MUmGNq1gMPoH",
        "colab_type": "code",
        "colab": {
          "base_uri": "https://localhost:8080/",
          "height": 35
        },
        "outputId": "01c99f7e-33cc-4d78-e9f8-10cd288d0591"
      },
      "source": [
        "ls data"
      ],
      "execution_count": 8,
      "outputs": [
        {
          "output_type": "stream",
          "text": [
            "men_shoes.csv  shoe_prices.csv\n"
          ],
          "name": "stdout"
        }
      ]
    },
    {
      "cell_type": "code",
      "metadata": {
        "id": "QSdBBh87MRpS",
        "colab_type": "code",
        "colab": {}
      },
      "source": [
        "df = pd.read_csv('data/men_shoes.csv',low_memory=False)"
      ],
      "execution_count": 0,
      "outputs": []
    },
    {
      "cell_type": "code",
      "metadata": {
        "id": "n8281gLZM4xl",
        "colab_type": "code",
        "colab": {}
      },
      "source": [
        "def run_model(feats, model=DecisionTreeRegressor(max_depth=5)):\n",
        "  X = df[feats].values\n",
        "  y = df['prices_amountmin'].values\n",
        "\n",
        "  scores = cross_val_score(model, X, y, scoring='neg_mean_absolute_error')\n",
        "  return np.mean(scores), np.std(scores)"
      ],
      "execution_count": 0,
      "outputs": []
    },
    {
      "cell_type": "code",
      "metadata": {
        "id": "YlYF9czaN_Rw",
        "colab_type": "code",
        "colab": {
          "base_uri": "https://localhost:8080/",
          "height": 35
        },
        "outputId": "64eb5ae5-72c0-4498-b260-a5f0da5743b7"
      },
      "source": [
        "df['brand_cat'] = df['brand'].map(lambda x: str(x).lower()).factorize()[0]\n",
        "run_model(['brand_cat'])"
      ],
      "execution_count": 18,
      "outputs": [
        {
          "output_type": "execute_result",
          "data": {
            "text/plain": [
              "(-58.133398968282776, 4.206122611474276)"
            ]
          },
          "metadata": {
            "tags": []
          },
          "execution_count": 18
        }
      ]
    },
    {
      "cell_type": "code",
      "metadata": {
        "id": "PDtIQhRDOTvx",
        "colab_type": "code",
        "colab": {
          "base_uri": "https://localhost:8080/",
          "height": 35
        },
        "outputId": "7e6e82b9-c407-445b-8305-732851451d8e"
      },
      "source": [
        "model = RandomForestRegressor(max_depth=5, n_estimators=100, random_state=0)\n",
        "run_model(['brand_cat'],model)"
      ],
      "execution_count": 19,
      "outputs": [
        {
          "output_type": "execute_result",
          "data": {
            "text/plain": [
              "(-57.31783843165656, 4.181246596160967)"
            ]
          },
          "metadata": {
            "tags": []
          },
          "execution_count": 19
        }
      ]
    },
    {
      "cell_type": "code",
      "metadata": {
        "id": "fWsg-z06Or8h",
        "colab_type": "code",
        "colab": {
          "base_uri": "https://localhost:8080/",
          "height": 522
        },
        "outputId": "520132fb-a7de-4e7b-ec5a-c8cf8eae8f02"
      },
      "source": [
        "df.head()"
      ],
      "execution_count": 15,
      "outputs": [
        {
          "output_type": "execute_result",
          "data": {
            "text/html": [
              "<div>\n",
              "<style scoped>\n",
              "    .dataframe tbody tr th:only-of-type {\n",
              "        vertical-align: middle;\n",
              "    }\n",
              "\n",
              "    .dataframe tbody tr th {\n",
              "        vertical-align: top;\n",
              "    }\n",
              "\n",
              "    .dataframe thead th {\n",
              "        text-align: right;\n",
              "    }\n",
              "</style>\n",
              "<table border=\"1\" class=\"dataframe\">\n",
              "  <thead>\n",
              "    <tr style=\"text-align: right;\">\n",
              "      <th></th>\n",
              "      <th>id</th>\n",
              "      <th>asins</th>\n",
              "      <th>brand</th>\n",
              "      <th>categories</th>\n",
              "      <th>colors</th>\n",
              "      <th>count</th>\n",
              "      <th>dateadded</th>\n",
              "      <th>dateupdated</th>\n",
              "      <th>descriptions</th>\n",
              "      <th>dimension</th>\n",
              "      <th>ean</th>\n",
              "      <th>features</th>\n",
              "      <th>flavors</th>\n",
              "      <th>imageurls</th>\n",
              "      <th>isbn</th>\n",
              "      <th>keys</th>\n",
              "      <th>manufacturer</th>\n",
              "      <th>manufacturernumber</th>\n",
              "      <th>merchants</th>\n",
              "      <th>name</th>\n",
              "      <th>prices_amountmin</th>\n",
              "      <th>prices_amountmax</th>\n",
              "      <th>prices_availability</th>\n",
              "      <th>prices_color</th>\n",
              "      <th>prices_condition</th>\n",
              "      <th>prices_count</th>\n",
              "      <th>prices_currency</th>\n",
              "      <th>prices_dateadded</th>\n",
              "      <th>prices_dateseen</th>\n",
              "      <th>prices_flavor</th>\n",
              "      <th>prices_issale</th>\n",
              "      <th>prices_merchant</th>\n",
              "      <th>prices_offer</th>\n",
              "      <th>prices_returnpolicy</th>\n",
              "      <th>prices_shipping</th>\n",
              "      <th>prices_size</th>\n",
              "      <th>prices_source</th>\n",
              "      <th>prices_sourceurls</th>\n",
              "      <th>prices_warranty</th>\n",
              "      <th>quantities</th>\n",
              "      <th>reviews</th>\n",
              "      <th>sizes</th>\n",
              "      <th>skus</th>\n",
              "      <th>sourceurls</th>\n",
              "      <th>upc</th>\n",
              "      <th>vin</th>\n",
              "      <th>websiteids</th>\n",
              "      <th>weight</th>\n",
              "      <th>brand_cat</th>\n",
              "    </tr>\n",
              "  </thead>\n",
              "  <tbody>\n",
              "    <tr>\n",
              "      <th>0</th>\n",
              "      <td>AVpfHrJ6ilAPnD_xVXOI</td>\n",
              "      <td>NaN</td>\n",
              "      <td>Josmo</td>\n",
              "      <td>Clothing,Shoes,Men's Shoes,All Men's Shoes</td>\n",
              "      <td>NaN</td>\n",
              "      <td>NaN</td>\n",
              "      <td>2016-11-07T00:45:12Z</td>\n",
              "      <td>2016-11-07T00:45:12Z</td>\n",
              "      <td>[{\"dateSeen\":[\"2016-11-07T00:45:12Z\"],\"sourceU...</td>\n",
              "      <td>NaN</td>\n",
              "      <td>6.993020e+11</td>\n",
              "      <td>[{\"key\":\"Gender\",\"value\":[\"Men\"]},{\"key\":\"Shoe...</td>\n",
              "      <td>NaN</td>\n",
              "      <td>https://i5.walmartimages.com/asr/13ac3d61-003c...</td>\n",
              "      <td>NaN</td>\n",
              "      <td>josmo/8190wnavy75,699302044036,0699302044036</td>\n",
              "      <td>NaN</td>\n",
              "      <td>8190-W-NAVY-7.5</td>\n",
              "      <td>[{\"dateSeen\":[\"2016-11-07T00:45:12Z\"],\"name\":\"...</td>\n",
              "      <td>Josmo 8190 Plain Infant Walking Shoes, Navy - ...</td>\n",
              "      <td>39.89</td>\n",
              "      <td>39.89</td>\n",
              "      <td>NaN</td>\n",
              "      <td>NaN</td>\n",
              "      <td>NaN</td>\n",
              "      <td>NaN</td>\n",
              "      <td>USD</td>\n",
              "      <td>2016-11-07T00:45:12Z</td>\n",
              "      <td>2016-11-05T00:00:00Z</td>\n",
              "      <td>NaN</td>\n",
              "      <td>True</td>\n",
              "      <td>NaN</td>\n",
              "      <td>REDUCED USD 12.10</td>\n",
              "      <td>NaN</td>\n",
              "      <td>NaN</td>\n",
              "      <td>NaN</td>\n",
              "      <td>NaN</td>\n",
              "      <td>https://www.walmart.com/ip/Josmo-8190-Plain-In...</td>\n",
              "      <td>NaN</td>\n",
              "      <td>NaN</td>\n",
              "      <td>NaN</td>\n",
              "      <td>NaN</td>\n",
              "      <td>NaN</td>\n",
              "      <td>https://www.walmart.com/ip/Josmo-8190-Plain-In...</td>\n",
              "      <td>6.993020e+11</td>\n",
              "      <td>NaN</td>\n",
              "      <td>NaN</td>\n",
              "      <td>NaN</td>\n",
              "      <td>0</td>\n",
              "    </tr>\n",
              "    <tr>\n",
              "      <th>1</th>\n",
              "      <td>AVpfHrJ6ilAPnD_xVXOI</td>\n",
              "      <td>NaN</td>\n",
              "      <td>Josmo</td>\n",
              "      <td>Clothing,Shoes,Men's Shoes,All Men's Shoes</td>\n",
              "      <td>NaN</td>\n",
              "      <td>NaN</td>\n",
              "      <td>2016-11-07T00:45:12Z</td>\n",
              "      <td>2016-11-07T00:45:12Z</td>\n",
              "      <td>[{\"dateSeen\":[\"2016-11-07T00:45:12Z\"],\"sourceU...</td>\n",
              "      <td>NaN</td>\n",
              "      <td>6.993020e+11</td>\n",
              "      <td>[{\"key\":\"Gender\",\"value\":[\"Men\"]},{\"key\":\"Shoe...</td>\n",
              "      <td>NaN</td>\n",
              "      <td>https://i5.walmartimages.com/asr/13ac3d61-003c...</td>\n",
              "      <td>NaN</td>\n",
              "      <td>josmo/8190wnavy75,699302044036,0699302044036</td>\n",
              "      <td>NaN</td>\n",
              "      <td>8190-W-NAVY-7.5</td>\n",
              "      <td>[{\"dateSeen\":[\"2016-11-07T00:45:12Z\"],\"name\":\"...</td>\n",
              "      <td>Josmo 8190 Plain Infant Walking Shoes, Navy - ...</td>\n",
              "      <td>51.99</td>\n",
              "      <td>51.99</td>\n",
              "      <td>NaN</td>\n",
              "      <td>NaN</td>\n",
              "      <td>new</td>\n",
              "      <td>NaN</td>\n",
              "      <td>USD</td>\n",
              "      <td>2016-11-07T00:45:12Z</td>\n",
              "      <td>2016-11-05T00:00:00Z</td>\n",
              "      <td>NaN</td>\n",
              "      <td>False</td>\n",
              "      <td>UnbeatableSale - Walmart.com</td>\n",
              "      <td>REDUCED USD 12.10</td>\n",
              "      <td>NaN</td>\n",
              "      <td>NaN</td>\n",
              "      <td>NaN</td>\n",
              "      <td>NaN</td>\n",
              "      <td>https://www.walmart.com/ip/Josmo-8190-Plain-In...</td>\n",
              "      <td>NaN</td>\n",
              "      <td>NaN</td>\n",
              "      <td>NaN</td>\n",
              "      <td>NaN</td>\n",
              "      <td>NaN</td>\n",
              "      <td>https://www.walmart.com/ip/Josmo-8190-Plain-In...</td>\n",
              "      <td>6.993020e+11</td>\n",
              "      <td>NaN</td>\n",
              "      <td>NaN</td>\n",
              "      <td>NaN</td>\n",
              "      <td>0</td>\n",
              "    </tr>\n",
              "    <tr>\n",
              "      <th>2</th>\n",
              "      <td>AVpfHsWP1cnluZ0-eVZ7</td>\n",
              "      <td>NaN</td>\n",
              "      <td>SERVUS BY HONEYWELL</td>\n",
              "      <td>All Men's Shoes,Shoes,Men's Shoes,Clothing</td>\n",
              "      <td>NaN</td>\n",
              "      <td>NaN</td>\n",
              "      <td>2016-06-14T04:29:57Z</td>\n",
              "      <td>2016-07-09T20:26:48Z</td>\n",
              "      <td>[{\"dateSeen\":[\"2016-07-09T20:26:48Z\"],\"sourceU...</td>\n",
              "      <td>NaN</td>\n",
              "      <td>NaN</td>\n",
              "      <td>[{\"key\":\"Gender\",\"value\":[\"Men\"]},{\"key\":\"Colo...</td>\n",
              "      <td>NaN</td>\n",
              "      <td>http://i5.walmartimages.com/dfw/dce07b8c-5844/...</td>\n",
              "      <td>NaN</td>\n",
              "      <td>servusbyhoneywell/zsr101blmlg</td>\n",
              "      <td>NaN</td>\n",
              "      <td>ZSR101BLMLG</td>\n",
              "      <td>[{\"dateSeen\":[\"2016-06-14T04:29:57Z\"],\"name\":\"...</td>\n",
              "      <td>Servus By Honeywell Shoe Studs Zsr101blmlg</td>\n",
              "      <td>40.02</td>\n",
              "      <td>40.02</td>\n",
              "      <td>NaN</td>\n",
              "      <td>NaN</td>\n",
              "      <td>new</td>\n",
              "      <td>NaN</td>\n",
              "      <td>USD</td>\n",
              "      <td>2016-06-14T04:29:57Z</td>\n",
              "      <td>2016-03-08T00:00:00Z</td>\n",
              "      <td>NaN</td>\n",
              "      <td>False</td>\n",
              "      <td>SIM Supply Inc - Walmart.com</td>\n",
              "      <td>NaN</td>\n",
              "      <td>NaN</td>\n",
              "      <td>NaN</td>\n",
              "      <td>NaN</td>\n",
              "      <td>NaN</td>\n",
              "      <td>http://www.walmart.com/ip/Studs-Shoe-Large-Pr-...</td>\n",
              "      <td>NaN</td>\n",
              "      <td>NaN</td>\n",
              "      <td>NaN</td>\n",
              "      <td>NaN</td>\n",
              "      <td>NaN</td>\n",
              "      <td>http://www.walmart.com/ip/Studs-Shoe-Large-Pr-...</td>\n",
              "      <td>NaN</td>\n",
              "      <td>NaN</td>\n",
              "      <td>NaN</td>\n",
              "      <td>NaN</td>\n",
              "      <td>1</td>\n",
              "    </tr>\n",
              "    <tr>\n",
              "      <th>3</th>\n",
              "      <td>AVpfHsWP1cnluZ0-eVZ7</td>\n",
              "      <td>NaN</td>\n",
              "      <td>SERVUS BY HONEYWELL</td>\n",
              "      <td>All Men's Shoes,Shoes,Men's Shoes,Clothing</td>\n",
              "      <td>NaN</td>\n",
              "      <td>NaN</td>\n",
              "      <td>2016-06-14T04:29:57Z</td>\n",
              "      <td>2016-07-09T20:26:48Z</td>\n",
              "      <td>[{\"dateSeen\":[\"2016-07-09T20:26:48Z\"],\"sourceU...</td>\n",
              "      <td>NaN</td>\n",
              "      <td>NaN</td>\n",
              "      <td>[{\"key\":\"Gender\",\"value\":[\"Men\"]},{\"key\":\"Colo...</td>\n",
              "      <td>NaN</td>\n",
              "      <td>http://i5.walmartimages.com/dfw/dce07b8c-5844/...</td>\n",
              "      <td>NaN</td>\n",
              "      <td>servusbyhoneywell/zsr101blmlg</td>\n",
              "      <td>NaN</td>\n",
              "      <td>ZSR101BLMLG</td>\n",
              "      <td>[{\"dateSeen\":[\"2016-06-14T04:29:57Z\"],\"name\":\"...</td>\n",
              "      <td>Servus By Honeywell Shoe Studs Zsr101blmlg</td>\n",
              "      <td>50.31</td>\n",
              "      <td>50.31</td>\n",
              "      <td>NaN</td>\n",
              "      <td>NaN</td>\n",
              "      <td>new</td>\n",
              "      <td>NaN</td>\n",
              "      <td>USD</td>\n",
              "      <td>2016-06-14T04:29:57Z</td>\n",
              "      <td>2015-11-30T00:00:00Z</td>\n",
              "      <td>NaN</td>\n",
              "      <td>False</td>\n",
              "      <td>SIM Supply Inc - Walmart.com</td>\n",
              "      <td>NaN</td>\n",
              "      <td>NaN</td>\n",
              "      <td>NaN</td>\n",
              "      <td>NaN</td>\n",
              "      <td>NaN</td>\n",
              "      <td>http://www.walmart.com/ip/Studs-Shoe-Large-Pr-...</td>\n",
              "      <td>NaN</td>\n",
              "      <td>NaN</td>\n",
              "      <td>NaN</td>\n",
              "      <td>NaN</td>\n",
              "      <td>NaN</td>\n",
              "      <td>http://www.walmart.com/ip/Studs-Shoe-Large-Pr-...</td>\n",
              "      <td>NaN</td>\n",
              "      <td>NaN</td>\n",
              "      <td>NaN</td>\n",
              "      <td>NaN</td>\n",
              "      <td>1</td>\n",
              "    </tr>\n",
              "    <tr>\n",
              "      <th>4</th>\n",
              "      <td>AVpfHsWP1cnluZ0-eVZ7</td>\n",
              "      <td>NaN</td>\n",
              "      <td>SERVUS BY HONEYWELL</td>\n",
              "      <td>All Men's Shoes,Shoes,Men's Shoes,Clothing</td>\n",
              "      <td>NaN</td>\n",
              "      <td>NaN</td>\n",
              "      <td>2016-06-14T04:29:57Z</td>\n",
              "      <td>2016-07-09T20:26:48Z</td>\n",
              "      <td>[{\"dateSeen\":[\"2016-07-09T20:26:48Z\"],\"sourceU...</td>\n",
              "      <td>NaN</td>\n",
              "      <td>NaN</td>\n",
              "      <td>[{\"key\":\"Gender\",\"value\":[\"Men\"]},{\"key\":\"Colo...</td>\n",
              "      <td>NaN</td>\n",
              "      <td>http://i5.walmartimages.com/dfw/dce07b8c-5844/...</td>\n",
              "      <td>NaN</td>\n",
              "      <td>servusbyhoneywell/zsr101blmlg</td>\n",
              "      <td>NaN</td>\n",
              "      <td>ZSR101BLMLG</td>\n",
              "      <td>[{\"dateSeen\":[\"2016-06-14T04:29:57Z\"],\"name\":\"...</td>\n",
              "      <td>Servus By Honeywell Shoe Studs Zsr101blmlg</td>\n",
              "      <td>46.26</td>\n",
              "      <td>46.26</td>\n",
              "      <td>NaN</td>\n",
              "      <td>NaN</td>\n",
              "      <td>new</td>\n",
              "      <td>NaN</td>\n",
              "      <td>USD</td>\n",
              "      <td>2016-06-14T04:29:57Z</td>\n",
              "      <td>2016-04-29T00:00:00Z</td>\n",
              "      <td>NaN</td>\n",
              "      <td>False</td>\n",
              "      <td>SIM Supply Inc - Walmart.com</td>\n",
              "      <td>NaN</td>\n",
              "      <td>NaN</td>\n",
              "      <td>NaN</td>\n",
              "      <td>NaN</td>\n",
              "      <td>NaN</td>\n",
              "      <td>http://www.walmart.com/ip/Studs-Shoe-Large-Pr-...</td>\n",
              "      <td>NaN</td>\n",
              "      <td>NaN</td>\n",
              "      <td>NaN</td>\n",
              "      <td>NaN</td>\n",
              "      <td>NaN</td>\n",
              "      <td>http://www.walmart.com/ip/Studs-Shoe-Large-Pr-...</td>\n",
              "      <td>NaN</td>\n",
              "      <td>NaN</td>\n",
              "      <td>NaN</td>\n",
              "      <td>NaN</td>\n",
              "      <td>1</td>\n",
              "    </tr>\n",
              "  </tbody>\n",
              "</table>\n",
              "</div>"
            ],
            "text/plain": [
              "                     id asins  ... weight brand_cat\n",
              "0  AVpfHrJ6ilAPnD_xVXOI   NaN  ...    NaN         0\n",
              "1  AVpfHrJ6ilAPnD_xVXOI   NaN  ...    NaN         0\n",
              "2  AVpfHsWP1cnluZ0-eVZ7   NaN  ...    NaN         1\n",
              "3  AVpfHsWP1cnluZ0-eVZ7   NaN  ...    NaN         1\n",
              "4  AVpfHsWP1cnluZ0-eVZ7   NaN  ...    NaN         1\n",
              "\n",
              "[5 rows x 49 columns]"
            ]
          },
          "metadata": {
            "tags": []
          },
          "execution_count": 15
        }
      ]
    },
    {
      "cell_type": "code",
      "metadata": {
        "id": "ZB9iwbZZO0tw",
        "colab_type": "code",
        "colab": {
          "base_uri": "https://localhost:8080/",
          "height": 148
        },
        "outputId": "64df37cd-03c8-46d2-d00b-ad9fed31c67b"
      },
      "source": [
        "df.features.head().values"
      ],
      "execution_count": 21,
      "outputs": [
        {
          "output_type": "execute_result",
          "data": {
            "text/plain": [
              "array(['[{\"key\":\"Gender\",\"value\":[\"Men\"]},{\"key\":\"Shoe Size\",\"value\":[\"M\"]},{\"key\":\"Shoe Category\",\"value\":[\"Men\\'s Shoes\"]},{\"key\":\"Color\",\"value\":[\"Multicolor\"]},{\"key\":\"Manufacturer Part Number\",\"value\":[\"8190-W-NAVY-7.5\"]},{\"key\":\"Brand\",\"value\":[\"Josmo\"]}]',\n",
              "       '[{\"key\":\"Gender\",\"value\":[\"Men\"]},{\"key\":\"Shoe Size\",\"value\":[\"M\"]},{\"key\":\"Shoe Category\",\"value\":[\"Men\\'s Shoes\"]},{\"key\":\"Color\",\"value\":[\"Multicolor\"]},{\"key\":\"Manufacturer Part Number\",\"value\":[\"8190-W-NAVY-7.5\"]},{\"key\":\"Brand\",\"value\":[\"Josmo\"]}]',\n",
              "       '[{\"key\":\"Gender\",\"value\":[\"Men\"]},{\"key\":\"Color\",\"value\":[\"Black\"]},{\"key\":\"Shipping Weight (in pounds)\",\"value\":[\"0.45\"]},{\"key\":\"Condition\",\"value\":[\"New\"]},{\"key\":\"Brand\",\"value\":[\"SERVUS BY HONEYWELL\"]},{\"key\":\"manufacturer_part_number\",\"value\":[\"ZSR101BLMLG\"]}]',\n",
              "       '[{\"key\":\"Gender\",\"value\":[\"Men\"]},{\"key\":\"Color\",\"value\":[\"Black\"]},{\"key\":\"Shipping Weight (in pounds)\",\"value\":[\"0.45\"]},{\"key\":\"Condition\",\"value\":[\"New\"]},{\"key\":\"Brand\",\"value\":[\"SERVUS BY HONEYWELL\"]},{\"key\":\"manufacturer_part_number\",\"value\":[\"ZSR101BLMLG\"]}]',\n",
              "       '[{\"key\":\"Gender\",\"value\":[\"Men\"]},{\"key\":\"Color\",\"value\":[\"Black\"]},{\"key\":\"Shipping Weight (in pounds)\",\"value\":[\"0.45\"]},{\"key\":\"Condition\",\"value\":[\"New\"]},{\"key\":\"Brand\",\"value\":[\"SERVUS BY HONEYWELL\"]},{\"key\":\"manufacturer_part_number\",\"value\":[\"ZSR101BLMLG\"]}]'],\n",
              "      dtype=object)"
            ]
          },
          "metadata": {
            "tags": []
          },
          "execution_count": 21
        }
      ]
    },
    {
      "cell_type": "code",
      "metadata": {
        "id": "CNspI1xHPviq",
        "colab_type": "code",
        "colab": {
          "base_uri": "https://localhost:8080/",
          "height": 35
        },
        "outputId": "d9ba84fc-1eb0-4fb2-bdfb-d017ccc48031"
      },
      "source": [
        "str_dict ='[{\"key\":\"Gender\",\"value\":[\"Men\"]},{\"key\":\"Shoe Size\",\"value\":[\"M\"]},{\"key\":\"Shoe Category\",\"value\":[\"Men\\'s Shoes\"]},{\"key\":\"Color\",\"value\":[\"Multicolor\"]},{\"key\":\"Manufacturer Part Number\",\"value\":[\"8190-W-NAVY-7.5\"]},{\"key\":\"Brand\",\"value\":[\"Josmo\"]}]'\n",
        "literal_eval(str_dict)[0]['value']"
      ],
      "execution_count": 25,
      "outputs": [
        {
          "output_type": "execute_result",
          "data": {
            "text/plain": [
              "['Men']"
            ]
          },
          "metadata": {
            "tags": []
          },
          "execution_count": 25
        }
      ]
    },
    {
      "cell_type": "code",
      "metadata": {
        "id": "oT3HoEj_QUGA",
        "colab_type": "code",
        "colab": {}
      },
      "source": [
        "def parse_features(x):\n",
        "  output_dict = {}\n",
        "  if str(x) == 'nan' : return output_dict\n",
        "\n",
        "  features = literal_eval(x.replace('\\\\\"', '\"'))\n",
        "  for item in features:\n",
        "    key = item['key'].lower().strip()\n",
        "    value = item['value'][0].lower().strip()\n",
        "\n",
        "    output_dict[key] = value\n",
        "  return output_dict\n",
        "\n",
        "#{'key': 'Gender', 'value': ['Men']}\n",
        "df['features_parsed'] = df['features'].map(parse_features)"
      ],
      "execution_count": 0,
      "outputs": []
    },
    {
      "cell_type": "code",
      "metadata": {
        "id": "99-I-kRcRJ9l",
        "colab_type": "code",
        "colab": {
          "base_uri": "https://localhost:8080/",
          "height": 35
        },
        "outputId": "c4b3d7c6-1dcc-492a-a121-e413ebd04e22"
      },
      "source": [
        "keys = set()\n",
        "\n",
        "\n",
        "df['features_parsed'].map(lambda x : keys.update(x.keys()))\n",
        "len(keys)"
      ],
      "execution_count": 38,
      "outputs": [
        {
          "output_type": "execute_result",
          "data": {
            "text/plain": [
              "476"
            ]
          },
          "metadata": {
            "tags": []
          },
          "execution_count": 38
        }
      ]
    },
    {
      "cell_type": "code",
      "metadata": {
        "id": "GbpSnn-iSZli",
        "colab_type": "code",
        "colab": {
          "base_uri": "https://localhost:8080/",
          "height": 67,
          "referenced_widgets": [
            "f68f86a545794716877f55995d7bdd65",
            "f36a1d72a74940e4985b6b00fa0817f8",
            "fe0e8c12578f4d6ebed993f969a83fb0",
            "e7febc0e480d491c9dfddeae85985ad3",
            "817adb4ca57f4a8aae7443611424153a",
            "b3abd2bd3efa45b18f4be2b1a1cb75be",
            "fca0a8e2e57342db9c1119dfae4f52e6",
            "2cea63a4c0cc437fab1debd996e8a3ec"
          ]
        },
        "outputId": "ea87d10b-5b25-4852-ea0b-1abb7bac5ac8"
      },
      "source": [
        " def get_name_feat(key):\n",
        "   return 'feat_' + key\n",
        "\n",
        " for key in tqdm_notebook(keys):\n",
        "   df[get_name_feat(key)] =  df.features_parsed.map(lambda feats: feats[key] if key in feats else np.nan)"
      ],
      "execution_count": 47,
      "outputs": [
        {
          "output_type": "display_data",
          "data": {
            "application/vnd.jupyter.widget-view+json": {
              "model_id": "f68f86a545794716877f55995d7bdd65",
              "version_minor": 0,
              "version_major": 2
            },
            "text/plain": [
              "HBox(children=(IntProgress(value=0, max=476), HTML(value='')))"
            ]
          },
          "metadata": {
            "tags": []
          }
        },
        {
          "output_type": "stream",
          "text": [
            "\n"
          ],
          "name": "stdout"
        }
      ]
    },
    {
      "cell_type": "code",
      "metadata": {
        "id": "4rk5ijB9XQL0",
        "colab_type": "code",
        "colab": {
          "base_uri": "https://localhost:8080/",
          "height": 166
        },
        "outputId": "7fe41153-9f22-4f40-ec6d-51d0ee2279cb"
      },
      "source": [
        "df.columns"
      ],
      "execution_count": 48,
      "outputs": [
        {
          "output_type": "execute_result",
          "data": {
            "text/plain": [
              "Index(['id', 'asins', 'brand', 'categories', 'colors', 'count', 'dateadded',\n",
              "       'dateupdated', 'descriptions', 'dimension',\n",
              "       ...\n",
              "       'feat_net weight', 'feat_diamond color', 'feat_era', 'feat_item weight',\n",
              "       'feat_article', 'feat_sub type', 'feat_comfort technology', 'feat_name',\n",
              "       'feat_wheeled', 'feat_weather resistant'],\n",
              "      dtype='object', length=526)"
            ]
          },
          "metadata": {
            "tags": []
          },
          "execution_count": 48
        }
      ]
    },
    {
      "cell_type": "code",
      "metadata": {
        "id": "QxXsb6HXX-YA",
        "colab_type": "code",
        "colab": {}
      },
      "source": [
        "keys_stat = {}\n",
        "for key in keys:\n",
        "  keys_stat[key] = df[ False == df[get_name_feat(key)].isnull()].shape[0]/df.shape[0]*100"
      ],
      "execution_count": 0,
      "outputs": []
    },
    {
      "cell_type": "code",
      "metadata": {
        "id": "JCvjr1gciJeo",
        "colab_type": "code",
        "colab": {
          "base_uri": "https://localhost:8080/",
          "height": 109
        },
        "outputId": "6f6c03b7-41fe-4aad-f473-9aa803c226c8"
      },
      "source": [
        "{k:v for k,v in keys_stat.items() if v > 30}"
      ],
      "execution_count": 55,
      "outputs": [
        {
          "output_type": "execute_result",
          "data": {
            "text/plain": [
              "{'brand': 48.62691466083151,\n",
              " 'color': 47.784463894967175,\n",
              " 'gender': 50.17505470459519,\n",
              " 'manufacturer part number': 36.252735229759296,\n",
              " 'material': 34.9070021881838}"
            ]
          },
          "metadata": {
            "tags": []
          },
          "execution_count": 55
        }
      ]
    },
    {
      "cell_type": "code",
      "metadata": {
        "id": "OneLHYQFj1xu",
        "colab_type": "code",
        "colab": {}
      },
      "source": [
        "df['feat_brand_cat'] = df['feat_brand'].factorize()[0]\n",
        "df['feat_color_cat'] = df['feat_color'].factorize()[0]\n",
        "df['feat_gender_cat'] = df['feat_gender'].factorize()[0]\n",
        "df['feat_manufacturer_part_number_cat'] = df['feat_manufacturer_part_number'].factorize()[0]\n",
        "df['feat_material_cat'] = df['feat_material'].factorize()[0]\n",
        "\n",
        "df['feat_sport_cat'] = df['feat_sport'].factorize()[0]\n",
        "df['feat_style_cat'] = df['feat_style'].factorize()[0]\n",
        "\n",
        "for key in keys:\n",
        "  df[get_name_feat(key) +'_cat'] = df[get_name_feat(key)].factorize()[0]\n",
        "  \n"
      ],
      "execution_count": 0,
      "outputs": []
    },
    {
      "cell_type": "code",
      "metadata": {
        "id": "R3xXu94VkFSa",
        "colab_type": "code",
        "colab": {
          "base_uri": "https://localhost:8080/",
          "height": 35
        },
        "outputId": "f773da6c-73e8-45af-94f6-56e5a6cb9eba"
      },
      "source": [
        "df['brand'] = df['brand'].map(lambda x: str(x).lower())\n",
        "df[df.brand == df.feat_brand].shape"
      ],
      "execution_count": 80,
      "outputs": [
        {
          "output_type": "execute_result",
          "data": {
            "text/plain": [
              "(8846, 533)"
            ]
          },
          "metadata": {
            "tags": []
          },
          "execution_count": 80
        }
      ]
    },
    {
      "cell_type": "code",
      "metadata": {
        "id": "i3txWl7IlUgn",
        "colab_type": "code",
        "colab": {
          "base_uri": "https://localhost:8080/",
          "height": 35
        },
        "outputId": "ec612e4b-e030-4126-a8f5-277dac5624d9"
      },
      "source": [
        "model =RandomForestRegressor(max_depth=5,n_estimators=100)\n",
        "run_model(['brand_cat'],model)"
      ],
      "execution_count": 81,
      "outputs": [
        {
          "output_type": "execute_result",
          "data": {
            "text/plain": [
              "(-57.3607714338508, 4.201575082061081)"
            ]
          },
          "metadata": {
            "tags": []
          },
          "execution_count": 81
        }
      ]
    },
    {
      "cell_type": "code",
      "metadata": {
        "id": "gZfDwNHple6k",
        "colab_type": "code",
        "colab": {}
      },
      "source": [
        "feats= ['brand_cat','feat_shape_cat','feat_metal type_cat','feat_style_cat','feat_sport_cat','feat_brand_cat','feat_gender_cat','feat_material_cat']\n",
        "#feats += feats_cat\n",
        "#feats =list(set(feats))\n",
        "model =RandomForestRegressor(max_depth=5,n_estimators=100)\n",
        "result= run_model(feats,model)"
      ],
      "execution_count": 0,
      "outputs": []
    },
    {
      "cell_type": "code",
      "metadata": {
        "id": "N2ose5v-vFll",
        "colab_type": "code",
        "colab": {
          "base_uri": "https://localhost:8080/",
          "height": 1000
        },
        "outputId": "cd3b2442-7c82-4b48-94af-2a16b2a84f2d"
      },
      "source": [
        "feats_cat =[x for x in df.columns if 'cat' in x]\n",
        "feats_cat"
      ],
      "execution_count": 91,
      "outputs": [
        {
          "output_type": "execute_result",
          "data": {
            "text/plain": [
              "['categories',\n",
              " 'brand_cat',\n",
              " 'feat_multi pack indicator',\n",
              " 'feat_recommended location',\n",
              " 'feat_location - city/state',\n",
              " 'feat_fabrication',\n",
              " 'feat_location - country',\n",
              " 'feat_shoe category',\n",
              " 'feat_clothing category',\n",
              " 'feat_catalog',\n",
              " 'feat_certifications and listings',\n",
              " 'feat_brand_cat',\n",
              " 'feat_color_cat',\n",
              " 'feat_gender_cat',\n",
              " 'feat_manufacturer_part_number_cat',\n",
              " 'feat_material_cat',\n",
              " 'feat_sport_cat',\n",
              " 'feat_style_cat',\n",
              " 'feat_chain included_cat',\n",
              " 'feat_contained battery type_cat',\n",
              " 'feat_garment care_cat',\n",
              " 'feat_safety feature_cat',\n",
              " 'feat_bag size range_cat',\n",
              " 'feat_country of origin - assembly_cat',\n",
              " 'feat_product in inches (l x w x h)_cat',\n",
              " 'feat_length_cat',\n",
              " 'feat_case tone_cat',\n",
              " 'feat_is energy star-certified_cat',\n",
              " 'feat_date_cat',\n",
              " 'feat_light weight_cat',\n",
              " 'feat_ring style_cat',\n",
              " 'feat_design_cat',\n",
              " 'feat_item width_cat',\n",
              " 'feat_guaranteed authentic_cat',\n",
              " 'feat_number of compartments_cat',\n",
              " 'feat_leather grade_cat',\n",
              " 'feat_heat zones_cat',\n",
              " 'feat_light transmission (vlt)_cat',\n",
              " 'feat_main color_cat',\n",
              " 'feat_fine or fashion_cat',\n",
              " 'feat_autographed_cat',\n",
              " 'feat_lens tint_cat',\n",
              " 'feat_pattern or design_cat',\n",
              " 'feat_closure_cat',\n",
              " 'feat_primary shelf id_cat',\n",
              " 'feat_multi pack indicator_cat',\n",
              " 'feat_leg_cat',\n",
              " 'feat_nike id_cat',\n",
              " 'feat_removable hood_cat',\n",
              " 'feat_designer_cat',\n",
              " 'feat_band length_cat',\n",
              " 'feat_auto_cat',\n",
              " 'feat_assembled in country of origin_cat',\n",
              " 'feat_upper material_cat',\n",
              " 'feat_material detail-1_cat',\n",
              " 'feat_release_cat',\n",
              " 'feat_mirrored_cat',\n",
              " 'feat_fit to_cat',\n",
              " 'feat_occasion_cat',\n",
              " 'feat_walmart no._cat',\n",
              " 'feat_battery type_cat',\n",
              " 'feat_is water-resistant_cat',\n",
              " 'feat_band color_cat',\n",
              " 'feat_made in_cat',\n",
              " 'feat_is polarized_cat',\n",
              " 'feat_fits models_cat',\n",
              " 'feat_rx-able_cat',\n",
              " 'feat_age_cat',\n",
              " 'feat_characteristics_cat',\n",
              " 'feat_tactical_cat',\n",
              " 'feat_item package quantity_cat',\n",
              " 'feat_case diameter_cat',\n",
              " 'feat_stock no._cat',\n",
              " 'feat_color/finish family_cat',\n",
              " 'feat_fishing_cat',\n",
              " 'feat_what includes_cat',\n",
              " 'feat_style name_cat',\n",
              " 'feat_����������������_cat',\n",
              " 'feat_antiscratch lens coating_cat',\n",
              " 'feat_charger included_cat',\n",
              " 'feat_suitable for_cat',\n",
              " 'feat_lens material:_cat',\n",
              " 'feat_frame shape_cat',\n",
              " 'feat_assembled product dimensions (l x w x h)_cat',\n",
              " 'feat_work shoes_cat',\n",
              " 'feat_frame color_cat',\n",
              " 'feat_retail price_cat',\n",
              " 'feat_heel height_cat',\n",
              " 'feat_stone type_cat',\n",
              " 'feat_shoe fastening type_cat',\n",
              " 'feat_manufacturer_cat',\n",
              " 'feat_model number_cat',\n",
              " 'feat_atpv arc rating_cat',\n",
              " 'feat_mpn#_cat',\n",
              " 'feat_gemstone type_cat',\n",
              " 'feat_bed size_cat',\n",
              " 'feat_waist size_cat',\n",
              " 'feat_combined shipping_cat',\n",
              " 'feat_count_cat',\n",
              " 'feat_band manufacturer_cat',\n",
              " 'feat_item style_cat',\n",
              " 'feat_recommended location_cat',\n",
              " 'feat_sku_cat',\n",
              " 'feat_productgroup_cat',\n",
              " 'feat_batteries included?_cat',\n",
              " 'feat_fits most screen size_cat',\n",
              " 'feat_product name_cat',\n",
              " 'feat_stylenumber_cat',\n",
              " 'feat_hunting_cat',\n",
              " 'feat_casing_cat',\n",
              " 'feat_bridge_cat',\n",
              " 'feat_season_cat',\n",
              " 'feat_overall material_cat',\n",
              " 'feat_case back_cat',\n",
              " 'feat_labor_cat',\n",
              " 'feat_diameter_cat',\n",
              " 'feat_country of manufacturer_cat',\n",
              " 'feat_metal color_cat',\n",
              " 'feat_chest size_cat',\n",
              " 'feat_boxed-product dimensions_cat',\n",
              " 'feat_applicable_cat',\n",
              " 'feat_display technology_cat',\n",
              " 'feat_looks best on these face shapes:_cat',\n",
              " 'feat_genre_cat',\n",
              " 'feat_sub style_cat',\n",
              " 'feat_location - city/state_cat',\n",
              " 'feat_designed for_cat',\n",
              " 'feat_country of origin - components_cat',\n",
              " 'feat_lens socket width_cat',\n",
              " 'feat_diamond clarity_cat',\n",
              " 'feat_hat style_cat',\n",
              " 'feat_product type_cat',\n",
              " 'feat_style code_cat',\n",
              " 'feat_height_cat',\n",
              " 'feat_product dimensions_cat',\n",
              " 'feat_pant style_cat',\n",
              " 'feat_number of pieces_cat',\n",
              " 'feat_bridge width_cat',\n",
              " 'feat_rise_cat',\n",
              " 'feat_necklace type_cat',\n",
              " 'feat_very popular bag now a days_cat',\n",
              " 'feat_age segment_cat',\n",
              " 'feat_reinforced knee_cat',\n",
              " 'feat_weather-resistant_cat',\n",
              " 'feat_wheel type_cat',\n",
              " 'feat_series name_cat',\n",
              " 'feat_instrument_cat',\n",
              " 'feat_dial material_cat',\n",
              " 'feat_adidas_cat',\n",
              " 'feat_lens width_cat',\n",
              " 'feat_lens material_cat',\n",
              " 'feat_vendor description_cat',\n",
              " 'feat_uv protection_cat',\n",
              " 'feat_parts_cat',\n",
              " 'feat_auto shut-off_cat',\n",
              " 'feat_machine washable_cat',\n",
              " 'feat_fabric material_cat',\n",
              " 'feat_wind resistant_cat',\n",
              " 'feat_case thickness_cat',\n",
              " 'feat_closure style_cat',\n",
              " 'feat_lens color family_cat',\n",
              " 'feat_clothing size_cat',\n",
              " 'feat_crystal_cat',\n",
              " 'feat_cleaning, care & maintenance_cat',\n",
              " 'feat_has paper wood_cat',\n",
              " 'feat_fits model_cat',\n",
              " 'feat_carats_cat',\n",
              " 'feat_arm_cat',\n",
              " 'feat_lined_cat',\n",
              " 'feat_airport friendly_cat',\n",
              " 'feat_ul safety listing_cat',\n",
              " 'feat_battery voltage_cat',\n",
              " 'feat_military style_cat',\n",
              " 'feat_interior pockets_cat',\n",
              " 'feat_recommended use_cat',\n",
              " 'feat_country/ organization_cat',\n",
              " 'feat_domestic shipping_cat',\n",
              " 'feat_kids backpacks_cat',\n",
              " 'feat_subdial_cat',\n",
              " 'feat_year_cat',\n",
              " 'feat_motion control_cat',\n",
              " 'feat_insulation_cat',\n",
              " 'feat_target audience_cat',\n",
              " 'feat_water-resistant_cat',\n",
              " 'feat_fit:_cat',\n",
              " 'feat_variant group id_cat',\n",
              " 'feat_has adaptive lenses_cat',\n",
              " 'feat_color mapping_cat',\n",
              " 'feat_country////region of manufacture_cat',\n",
              " 'feat_shoe width_cat',\n",
              " 'feat_label_cat',\n",
              " 'feat_watch case shape_cat',\n",
              " 'feat_temple length_cat',\n",
              " 'feat_case type:_cat',\n",
              " 'feat_power type_cat',\n",
              " 'feat_black_cat',\n",
              " 'feat_watch shape_cat',\n",
              " 'feat_main colour_cat',\n",
              " 'feat_ring size_cat',\n",
              " 'feat_country//region of manufacture_cat',\n",
              " 'feat_alarm_cat',\n",
              " 'feat_protects against_cat',\n",
              " 'feat_nickel free_cat',\n",
              " 'feat_shipping weight_cat',\n",
              " 'feat_dial markers_cat',\n",
              " 'feat_chain length_cat',\n",
              " 'feat_case finish_cat',\n",
              " 'feat_watch style_cat',\n",
              " 'feat_has mercury_cat',\n",
              " 'feat_hammer loop_cat',\n",
              " 'feat_frame style_cat',\n",
              " 'feat_frame type_cat',\n",
              " 'feat_front style_cat',\n",
              " 'feat_bridge/temple size:_cat',\n",
              " 'feat_date first available at amazon.ca_cat',\n",
              " 'feat_number of items_cat',\n",
              " 'feat_sock style_cat',\n",
              " 'feat_conflict_cat',\n",
              " 'feat_dial color_cat',\n",
              " 'feat_number of pockets_cat',\n",
              " 'feat_safety apparel product type_cat',\n",
              " 'feat_age group_cat',\n",
              " 'feat_high visibility (ansi compliant)_cat',\n",
              " 'feat_resolution megapixels_cat',\n",
              " 'feat_watch band material_cat',\n",
              " 'feat_clothing type_cat',\n",
              " 'feat_width_cat',\n",
              " 'feat_removable liner_cat',\n",
              " 'feat_measurements:_cat',\n",
              " 'feat_case material_cat',\n",
              " 'feat_fits over eyeglasses_cat',\n",
              " 'feat_sports league_cat',\n",
              " 'feat_sole_cat',\n",
              " 'feat_isbn_cat',\n",
              " 'feat_has expiration_cat',\n",
              " 'feat_материал_cat',\n",
              " 'feat_sku#_cat',\n",
              " 'feat_fits brands_cat',\n",
              " 'feat_eyewear frame style_cat',\n",
              " 'feat_condition_cat',\n",
              " 'feat_insulated_cat',\n",
              " 'feat_is dark sky-compliant_cat',\n",
              " 'feat_navy blue_cat',\n",
              " 'feat_fits styles_cat',\n",
              " 'feat_metal type_cat',\n",
              " 'feat_fit_cat',\n",
              " 'feat_nike product #_cat',\n",
              " 'feat_frame material_cat',\n",
              " 'feat_leather :_cat',\n",
              " 'feat_neckline_cat',\n",
              " 'feat_front_cat',\n",
              " 'feat_box_cat',\n",
              " 'feat_feature_cat',\n",
              " 'feat_global composite sports type_cat',\n",
              " 'feat_age gender group_cat',\n",
              " 'feat_is portable_cat',\n",
              " 'feat_thick, warm, cozy_cat',\n",
              " 'feat_waist_cat',\n",
              " 'feat_hood_cat',\n",
              " 'feat_video game platform_cat',\n",
              " 'feat_shoe height_cat',\n",
              " 'feat_bracelet style_cat',\n",
              " 'feat_colour code_cat',\n",
              " 'feat_purpose_cat',\n",
              " 'feat_fastener_cat',\n",
              " 'feat_uv rating_cat',\n",
              " 'feat_sku number_cat',\n",
              " 'feat_display_cat',\n",
              " 'feat_charge time (minutes)_cat',\n",
              " 'feat_weight_cat',\n",
              " 'feat_attachment_cat',\n",
              " 'feat_chest_cat',\n",
              " 'feat_fabrication_cat',\n",
              " 'feat_chain/necklace length (in.)_cat',\n",
              " 'feat_picture_cat',\n",
              " 'feat_international shipping?_cat',\n",
              " 'feat_vehicle type_cat',\n",
              " 'feat_finish_cat',\n",
              " 'feat_type_cat',\n",
              " 'feat_compatible devices_cat',\n",
              " 'feat_jewelry setting_cat',\n",
              " 'feat_100% adidas authentic_cat',\n",
              " 'feat_fabric content_cat',\n",
              " 'feat_is recyclable_cat',\n",
              " 'feat_watch power source_cat',\n",
              " 'feat_location - country_cat',\n",
              " 'feat_band type_cat',\n",
              " 'feat_shirt size_cat',\n",
              " 'feat_pronation_cat',\n",
              " 'feat_handbag style_cat',\n",
              " 'feat_fastener type_cat',\n",
              " 'feat_elastic banded waist_cat',\n",
              " 'feat_mpn_cat',\n",
              " 'feat_smart watch_cat',\n",
              " 'feat_color family_cat',\n",
              " 'feat_hardsided or softsided_cat',\n",
              " 'feat_item character_cat',\n",
              " 'feat_materials_cat',\n",
              " 'feat_contains cubic zirconia_cat',\n",
              " 'feat_fabric type_cat',\n",
              " 'feat_transactionid_cat',\n",
              " 'feat_clothing size type_cat',\n",
              " 'feat_jacket length_cat',\n",
              " 'feat_reinforced pockets_cat',\n",
              " 'feat_movement_cat',\n",
              " 'feat_safety features_cat',\n",
              " 'feat_resizable_cat',\n",
              " 'feat_temple size:_cat',\n",
              " 'feat_age range_cat',\n",
              " 'feat_terrain_cat',\n",
              " 'feat_lens color_cat',\n",
              " 'feat_date first available at amazon.co.uk_cat',\n",
              " 'feat_athlete_cat',\n",
              " 'feat_country of origin assembly:_cat',\n",
              " 'feat_pocket_cat',\n",
              " 'feat_crown_cat',\n",
              " 'feat_shoe category_cat',\n",
              " 'feat_euro size_cat',\n",
              " 'feat_shoe closure_cat',\n",
              " 'feat_shipping to usa_cat',\n",
              " 'feat_lens type_cat',\n",
              " 'feat_hairstyle_cat',\n",
              " 'feat_msrp_cat',\n",
              " 'feat_features & fastening_cat',\n",
              " 'feat_item spec attr - style (ebay)_cat',\n",
              " 'feat_technician_cat',\n",
              " 'feat_number of heat settings_cat',\n",
              " 'feat_product id_cat',\n",
              " 'feat_authenticity_cat',\n",
              " 'feat_clothing category_cat',\n",
              " 'feat_inseam_cat',\n",
              " 'feat_style:_cat',\n",
              " 'feat_item type_cat',\n",
              " 'feat_band material_cat',\n",
              " 'feat_style #_cat',\n",
              " 'feat_construction_cat',\n",
              " 'feat_used with equipment type_cat',\n",
              " 'feat_amazonbestsellersrank_cat',\n",
              " 'feat_sleeve length_cat',\n",
              " 'feat_outer material_cat',\n",
              " 'feat_manufacturer sku_cat',\n",
              " 'feat_packageweight_cat',\n",
              " 'feat_impact resistant_cat',\n",
              " 'feat_resolution_cat',\n",
              " 'feat_number of wheels_cat',\n",
              " 'feat_special features_cat',\n",
              " 'feat_batteries required_cat',\n",
              " 'feat_best sellers rank_cat',\n",
              " 'feat_casual & dress shoe style_cat',\n",
              " 'feat_shade_cat',\n",
              " 'feat_metal stamp_cat',\n",
              " 'feat_shipping weight (in pounds)_cat',\n",
              " 'feat_leg opening:_cat',\n",
              " 'feat_theme_cat',\n",
              " 'feat_product #_cat',\n",
              " 'feat_is lined_cat',\n",
              " 'feat_polarized_cat',\n",
              " 'feat_gps_cat',\n",
              " 'feat_hooded_cat',\n",
              " 'feat_shape_cat',\n",
              " 'feat_is waterproof_cat',\n",
              " 'feat_lining material_cat',\n",
              " 'feat_catalog_cat',\n",
              " 'feat_animal type_cat',\n",
              " 'feat_model no._cat',\n",
              " 'feat_features_cat',\n",
              " 'feat_spikes type_cat',\n",
              " 'feat_polarised_cat',\n",
              " 'feat_item weight unit of measure_cat',\n",
              " 'feat_material composition_cat',\n",
              " 'feat_szie_cat',\n",
              " 'feat_boot height_cat',\n",
              " 'feat_date first available_cat',\n",
              " 'feat_power reserve_cat',\n",
              " 'feat_international shipping_cat',\n",
              " 'feat_clasp type_cat',\n",
              " 'feat_seller inventory number_cat',\n",
              " 'feat_accessory type_cat',\n",
              " 'feat_compass_cat',\n",
              " 'feat_batteries required?_cat',\n",
              " 'feat_item color_cat',\n",
              " 'feat_country of origin_cat',\n",
              " 'feat_adjustable_cat',\n",
              " 'feat_water resistant_cat',\n",
              " 'feat_protection_cat',\n",
              " 'feat_is wheeled_cat',\n",
              " 'feat_type 2_cat',\n",
              " 'feat_polarized?_cat',\n",
              " 'feat_free item_cat',\n",
              " 'feat_country of origin components:_cat',\n",
              " 'feat_character_cat',\n",
              " 'feat_bridge size:_cat',\n",
              " 'feat_contains batteries_cat',\n",
              " 'feat_country of manufacture_cat',\n",
              " 'feat_use_cat',\n",
              " 'feat_band length (in.)_cat',\n",
              " 'feat_eye size:_cat',\n",
              " 'feat_lining_cat',\n",
              " 'feat_fuel type_cat',\n",
              " 'feat_manufacturer number_cat',\n",
              " 'feat_shoe size_cat',\n",
              " 'feat_sizearm_cat',\n",
              " 'feat_assembled product weight_cat',\n",
              " 'feat_foot arch_cat',\n",
              " 'feat_to fit_cat',\n",
              " 'feat_model_cat',\n",
              " 'feat_place of origin_cat',\n",
              " 'feat_part number_cat',\n",
              " 'feat_audience_cat',\n",
              " 'feat_country/region of manufacture_cat',\n",
              " 'feat_gold karat_cat',\n",
              " 'feat_includes_cat',\n",
              " 'feat_bezel_cat',\n",
              " 'feat_fabric_cat',\n",
              " 'feat_flame resistant_cat',\n",
              " 'feat_lens technology_cat',\n",
              " 'feat_part type_cat',\n",
              " 'feat_material type_cat',\n",
              " 'feat_waterproof_cat',\n",
              " 'feat_size/dimensions_cat',\n",
              " 'feat_dimensions_cat',\n",
              " 'feat_band width_cat',\n",
              " 'feat_stability_cat',\n",
              " 'feat_ground_cat',\n",
              " 'feat_lens_cat',\n",
              " 'feat_age end_cat',\n",
              " 'feat_is weather-resistant_cat',\n",
              " 'feat_golf shoe type_cat',\n",
              " 'feat_ean_cat',\n",
              " 'feat_primary color_cat',\n",
              " 'feat_profession_cat',\n",
              " 'feat_licensed_cat',\n",
              " 'feat_type of sole_cat',\n",
              " 'feat_face shape_cat',\n",
              " 'feat_full product manual_cat',\n",
              " 'feat_fabric care instructions_cat',\n",
              " 'feat_pattern_cat',\n",
              " 'feat_cm_cat',\n",
              " 'feat_eye protection type_cat',\n",
              " 'feat_disclosures_cat',\n",
              " 'feat_footwear type_cat',\n",
              " 'feat_capacity_cat',\n",
              " 'feat_hands_cat',\n",
              " 'feat_heart rate monitor_cat',\n",
              " 'feat_polarized lenses_cat',\n",
              " 'feat_age start_cat',\n",
              " 'feat_origin of components_cat',\n",
              " 'feat_general warranty_cat',\n",
              " 'feat_frame material:_cat',\n",
              " 'feat_cushioning_cat',\n",
              " 'feat_sizebridge_cat',\n",
              " 'feat_digital camera_cat',\n",
              " 'feat_manufacturer part number_cat',\n",
              " 'feat_size_cat',\n",
              " 'feat_frame depth_cat',\n",
              " 'feat_quantity in set_cat',\n",
              " 'feat_chronograph_cat',\n",
              " 'feat_certifications and listings_cat',\n",
              " 'feat_expandable_cat',\n",
              " 'feat_year made_cat',\n",
              " 'feat_case type_cat',\n",
              " 'feat_colour_cat',\n",
              " 'feat_is orthopedic_cat',\n",
              " 'feat_style number_cat',\n",
              " 'feat_number of batteries included_cat',\n",
              " 'feat_sock size_cat',\n",
              " 'feat_sleeve style_cat',\n",
              " 'feat_sports team_cat',\n",
              " 'feat_mechanic_cat',\n",
              " 'feat_wash_cat',\n",
              " 'feat_toe type_cat',\n",
              " 'feat_enhanced visibility (reflective)_cat',\n",
              " 'feat_fabric care_cat',\n",
              " 'feat_clothing product type_cat',\n",
              " 'feat_issued/ not-issued_cat',\n",
              " 'feat_inv_cat',\n",
              " 'feat_package_cat',\n",
              " 'feat_net weight_cat',\n",
              " 'feat_diamond color_cat',\n",
              " 'feat_era_cat',\n",
              " 'feat_item weight_cat',\n",
              " 'feat_article_cat',\n",
              " 'feat_sub type_cat',\n",
              " 'feat_comfort technology_cat',\n",
              " 'feat_name_cat',\n",
              " 'feat_wheeled_cat',\n",
              " 'feat_weather resistant_cat']"
            ]
          },
          "metadata": {
            "tags": []
          },
          "execution_count": 91
        }
      ]
    },
    {
      "cell_type": "code",
      "metadata": {
        "id": "YzMJ0uJHlj1q",
        "colab_type": "code",
        "colab": {
          "base_uri": "https://localhost:8080/",
          "height": 192
        },
        "outputId": "08ed8acc-9223-4792-950f-391bca790f9b"
      },
      "source": [
        "X = df[feats].values\n",
        "y = df['prices_amountmin'].values\n",
        "m = RandomForestRegressor(max_depth=5,n_estimators=100, random_state=0)\n",
        "m.fit(X,y)\n",
        "print(result)\n",
        "perm = PermutationImportance(m,random_state=1).fit(X,y);\n",
        "eli5.show_weights(perm,feature_names=feats)"
      ],
      "execution_count": 96,
      "outputs": [
        {
          "output_type": "stream",
          "text": [
            "(-57.24163876153257, 4.264406301251542)\n"
          ],
          "name": "stdout"
        },
        {
          "output_type": "execute_result",
          "data": {
            "text/html": [
              "\n",
              "    <style>\n",
              "    table.eli5-weights tr:hover {\n",
              "        filter: brightness(85%);\n",
              "    }\n",
              "</style>\n",
              "\n",
              "\n",
              "\n",
              "    \n",
              "\n",
              "    \n",
              "\n",
              "    \n",
              "\n",
              "    \n",
              "\n",
              "    \n",
              "\n",
              "    \n",
              "\n",
              "\n",
              "    \n",
              "\n",
              "    \n",
              "\n",
              "    \n",
              "\n",
              "    \n",
              "\n",
              "    \n",
              "\n",
              "    \n",
              "\n",
              "\n",
              "    \n",
              "\n",
              "    \n",
              "\n",
              "    \n",
              "\n",
              "    \n",
              "\n",
              "    \n",
              "        <table class=\"eli5-weights eli5-feature-importances\" style=\"border-collapse: collapse; border: none; margin-top: 0em; table-layout: auto;\">\n",
              "    <thead>\n",
              "    <tr style=\"border: none;\">\n",
              "        <th style=\"padding: 0 1em 0 0.5em; text-align: right; border: none;\">Weight</th>\n",
              "        <th style=\"padding: 0 0.5em 0 0.5em; text-align: left; border: none;\">Feature</th>\n",
              "    </tr>\n",
              "    </thead>\n",
              "    <tbody>\n",
              "    \n",
              "        <tr style=\"background-color: hsl(120, 100.00%, 80.00%); border: none;\">\n",
              "            <td style=\"padding: 0 1em 0 0.5em; text-align: right; border: none;\">\n",
              "                0.2555\n",
              "                \n",
              "                    &plusmn; 0.0079\n",
              "                \n",
              "            </td>\n",
              "            <td style=\"padding: 0 0.5em 0 0.5em; text-align: left; border: none;\">\n",
              "                brand_cat\n",
              "            </td>\n",
              "        </tr>\n",
              "    \n",
              "        <tr style=\"background-color: hsl(120, 100.00%, 89.34%); border: none;\">\n",
              "            <td style=\"padding: 0 1em 0 0.5em; text-align: right; border: none;\">\n",
              "                0.1040\n",
              "                \n",
              "                    &plusmn; 0.0025\n",
              "                \n",
              "            </td>\n",
              "            <td style=\"padding: 0 0.5em 0 0.5em; text-align: left; border: none;\">\n",
              "                feat_material_cat\n",
              "            </td>\n",
              "        </tr>\n",
              "    \n",
              "        <tr style=\"background-color: hsl(120, 100.00%, 96.17%); border: none;\">\n",
              "            <td style=\"padding: 0 1em 0 0.5em; text-align: right; border: none;\">\n",
              "                0.0241\n",
              "                \n",
              "                    &plusmn; 0.0024\n",
              "                \n",
              "            </td>\n",
              "            <td style=\"padding: 0 0.5em 0 0.5em; text-align: left; border: none;\">\n",
              "                feat_gender_cat\n",
              "            </td>\n",
              "        </tr>\n",
              "    \n",
              "        <tr style=\"background-color: hsl(120, 100.00%, 96.99%); border: none;\">\n",
              "            <td style=\"padding: 0 1em 0 0.5em; text-align: right; border: none;\">\n",
              "                0.0171\n",
              "                \n",
              "                    &plusmn; 0.0013\n",
              "                \n",
              "            </td>\n",
              "            <td style=\"padding: 0 0.5em 0 0.5em; text-align: left; border: none;\">\n",
              "                feat_brand_cat\n",
              "            </td>\n",
              "        </tr>\n",
              "    \n",
              "        <tr style=\"background-color: hsl(120, 100.00%, 97.53%); border: none;\">\n",
              "            <td style=\"padding: 0 1em 0 0.5em; text-align: right; border: none;\">\n",
              "                0.0129\n",
              "                \n",
              "                    &plusmn; 0.0012\n",
              "                \n",
              "            </td>\n",
              "            <td style=\"padding: 0 0.5em 0 0.5em; text-align: left; border: none;\">\n",
              "                feat_shape_cat\n",
              "            </td>\n",
              "        </tr>\n",
              "    \n",
              "        <tr style=\"background-color: hsl(120, 100.00%, 98.11%); border: none;\">\n",
              "            <td style=\"padding: 0 1em 0 0.5em; text-align: right; border: none;\">\n",
              "                0.0088\n",
              "                \n",
              "                    &plusmn; 0.0012\n",
              "                \n",
              "            </td>\n",
              "            <td style=\"padding: 0 0.5em 0 0.5em; text-align: left; border: none;\">\n",
              "                feat_metal type_cat\n",
              "            </td>\n",
              "        </tr>\n",
              "    \n",
              "        <tr style=\"background-color: hsl(120, 100.00%, 99.15%); border: none;\">\n",
              "            <td style=\"padding: 0 1em 0 0.5em; text-align: right; border: none;\">\n",
              "                0.0028\n",
              "                \n",
              "                    &plusmn; 0.0008\n",
              "                \n",
              "            </td>\n",
              "            <td style=\"padding: 0 0.5em 0 0.5em; text-align: left; border: none;\">\n",
              "                feat_style_cat\n",
              "            </td>\n",
              "        </tr>\n",
              "    \n",
              "        <tr style=\"background-color: hsl(120, 100.00%, 99.89%); border: none;\">\n",
              "            <td style=\"padding: 0 1em 0 0.5em; text-align: right; border: none;\">\n",
              "                0.0002\n",
              "                \n",
              "                    &plusmn; 0.0000\n",
              "                \n",
              "            </td>\n",
              "            <td style=\"padding: 0 0.5em 0 0.5em; text-align: left; border: none;\">\n",
              "                feat_sport_cat\n",
              "            </td>\n",
              "        </tr>\n",
              "    \n",
              "    \n",
              "    </tbody>\n",
              "</table>\n",
              "    \n",
              "\n",
              "    \n",
              "\n",
              "\n",
              "    \n",
              "\n",
              "    \n",
              "\n",
              "    \n",
              "\n",
              "    \n",
              "\n",
              "    \n",
              "\n",
              "    \n",
              "\n",
              "\n",
              "\n"
            ],
            "text/plain": [
              "<IPython.core.display.HTML object>"
            ]
          },
          "metadata": {
            "tags": []
          },
          "execution_count": 96
        }
      ]
    },
    {
      "cell_type": "code",
      "metadata": {
        "id": "5wxtwShJmoxt",
        "colab_type": "code",
        "colab": {
          "base_uri": "https://localhost:8080/",
          "height": 239
        },
        "outputId": "b2b0e4e0-1a39-44c0-d30c-c29c332afaa2"
      },
      "source": [
        "df['brand'].value_counts(normalize=True)"
      ],
      "execution_count": 77,
      "outputs": [
        {
          "output_type": "execute_result",
          "data": {
            "text/plain": [
              "nike                  0.097210\n",
              "puma                  0.033315\n",
              "ralph lauren          0.028775\n",
              "vans                  0.021116\n",
              "new balance           0.020295\n",
              "                        ...   \n",
              "maxx                  0.000055\n",
              "greatlookz fashion    0.000055\n",
              "dkny                  0.000055\n",
              "pony                  0.000055\n",
              "ocean pacific         0.000055\n",
              "Name: brand, Length: 1732, dtype: float64"
            ]
          },
          "metadata": {
            "tags": []
          },
          "execution_count": 77
        }
      ]
    },
    {
      "cell_type": "code",
      "metadata": {
        "id": "VE0kXjclnd5T",
        "colab_type": "code",
        "colab": {
          "base_uri": "https://localhost:8080/",
          "height": 148
        },
        "outputId": "ea3df570-cf92-4810-d668-8b4c82f9180e"
      },
      "source": [
        "df[df['brand'] == 'nike'].features_parsed.sample(5).values"
      ],
      "execution_count": 87,
      "outputs": [
        {
          "output_type": "execute_result",
          "data": {
            "text/plain": [
              "array([{'sport': 'soccer', 'style': 'soccer shoes', 'country/region of manufacture': 'italy', 'type': 'cleats', 'condition': 'new with box', 'main color': 'orange', 'material': 'synthetic'},\n",
              "       {'gender': 'men', 'clothing size': '9', 'brand': 'nike', 'color': 'black'},\n",
              "       {'season': 'all-season', 'shoe size': '11', 'color': 'pink', 'model': '599264 600', 'casual & dress shoe style': 'basketball', 'gender': 'men', 'brand': 'nike', 'age group': 'adult', 'shoe width': 'medium (d, m)', 'material': 'synthetic', 'size': '11', 'shoe category': 'mens shoes', 'manufacturer part number': '599264 600'},\n",
              "       {'sport': 'running shoes', 'occasion': 'running shoes', 'material': 'synthetic-and-mesh', 'gender': 'men', 'shoe size': '9 us men', 'shoe category': \"men's shoes\", 'assembled product dimensions (l x w x h)': '12.00 x 8.00 x 6.00 inches', 'fabric content': 'synthetic-and-mesh', 'color': 'beige', 'model': '704889 013', 'shoe closure': 'lace-up', 'casual & dress shoe style': 'running shoes', 'manufacturer part number': '704889 013', 'variant group id': '224#mp#704889 013', 'brand': 'nike', 'age group': 'men', 'shoe width': 'd(m)'},\n",
              "       {'sport': 'casual shoes', 'occasion': 'casual shoes', 'material': 'mesh', 'gender': 'men', 'shoe size': '7.5 us men', 'shoe category': \"men's shoes\", 'assembled product dimensions (l x w x h)': '12.00 x 8.00 x 6.00 inches', 'fabric content': 'mesh', 'color': 'summit white/black/soar/volt', 'model': '487981 104', 'shoe closure': 'lace-up', 'casual & dress shoe style': 'running shoes', 'manufacturer part number': '487981 104', 'variant group id': '224#mp#487981 104', 'brand': 'nike', 'age group': 'men', 'shoe width': 'd(m)'}],\n",
              "      dtype=object)"
            ]
          },
          "metadata": {
            "tags": []
          },
          "execution_count": 87
        }
      ]
    },
    {
      "cell_type": "code",
      "metadata": {
        "id": "eJ3J2yVgn5ZY",
        "colab_type": "code",
        "colab": {}
      },
      "source": [
        ""
      ],
      "execution_count": 0,
      "outputs": []
    }
  ]
}